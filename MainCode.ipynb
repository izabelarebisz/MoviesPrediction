{
 "metadata": {
  "language_info": {
   "codemirror_mode": {
    "name": "ipython",
    "version": 3
   },
   "file_extension": ".py",
   "mimetype": "text/x-python",
   "name": "python",
   "nbconvert_exporter": "python",
   "pygments_lexer": "ipython3",
   "version": "3.9.0"
  },
  "orig_nbformat": 2,
  "kernelspec": {
   "name": "python390jvsc74a57bd06015f80f4e8be7461440a289df677b4aa31bee821e31be36104b132c70ad18e6",
   "display_name": "Python 3.9.0 64-bit"
  },
  "metadata": {
   "interpreter": {
    "hash": "6015f80f4e8be7461440a289df677b4aa31bee821e31be36104b132c70ad18e6"
   }
  }
 },
 "nbformat": 4,
 "nbformat_minor": 2,
 "cells": [
  {
   "cell_type": "code",
   "execution_count": 111,
   "metadata": {},
   "outputs": [],
   "source": [
    "import numpy as np\n",
    "import pandas as pd\n",
    "import seaborn as sns \n",
    "import random\n",
    "sns.set_palette('husl')"
   ]
  },
  {
   "cell_type": "code",
   "execution_count": 112,
   "metadata": {},
   "outputs": [],
   "source": [
    "baseReady = pd.read_csv(\"baseReady.csv\")\n",
    "\n",
    "finale=pd.read_csv(\"final_base.csv\")\n",
    "finale = finale.sample(frac = 1)"
   ]
  },
  {
   "cell_type": "code",
   "execution_count": 113,
   "metadata": {},
   "outputs": [],
   "source": [
    "class SoftSet:\n",
    "    @staticmethod\n",
    "    def classify(sample, X, Y):\n",
    "\n",
    "        #tworzenie słownika z wynikami\n",
    "        values = {}\n",
    "        for j in range (0, len(X), 1):\n",
    "            values[X[j]] = 0\n",
    "    \n",
    "        #aktualizowanie wartości w słowniku\n",
    "        for i in range(len(Y)):\n",
    "            for key in Y.columns:\n",
    "                values[X[i]] += Y.iloc[i][key] * sample[key]\n",
    "\n",
    "        values = sorted(values.items(), key = lambda kv:(kv[1]),reverse= True)\n",
    "\n",
    "        result = []\n",
    "        for i in range(5):\n",
    "            result.append(values[i][0])\n",
    "\n",
    "        return result\n"
   ]
  },
  {
   "cell_type": "code",
   "execution_count": 114,
   "metadata": {
    "tags": []
   },
   "outputs": [],
   "source": [
    "id, result, titles = [], [], []\n",
    "\n",
    "#zbiór X <- id\n",
    "for i in range(len(baseReady)):\n",
    "    id.append(finale.iloc[i]['imdb_title_id'])\n",
    "\n",
    "#zbiór Y <- finale\n",
    "\n",
    "#sample <- preferences\n",
    "preferences = {\n",
    "'Years_till_1950':0,'Years_1950-1985':0,'Years_after_1985':0,'Duration<100':0,'Duration>=100':0,\n",
    "'Votes_till_5':0,'Votes_between_5_and_7':0,'Votes_over_7':0,'English':0,'AnotherLanguage':0,\n",
    "'Romance':0,'Biography':0,'Crime':0,'Drama':0,'History':0,'Adventure':0,'Fantasy':0,'War':0,\n",
    "'Mystery':0,'Horror':0,'Western':0,'Comedy':0,'Family':0,'Action':0,'Sci-Fi':0,'Thriller':0,\n",
    "'Sport':0,'Animation':0,'Musical':0,'Music':0,'Film-Noir':0,'Adult':0,'Documentary':0,'Reality-TV':0,'News':0\n",
    "}\n"
   ]
  },
  {
   "cell_type": "code",
   "execution_count": 115,
   "metadata": {},
   "outputs": [],
   "source": [
    "#POBIERANIE ODPOWIEDZI\n",
    "\n",
    "#1\n",
    "a = input(\"Do you want the characters to speak English? Yes/No/Neutrally\")\n",
    "answear = a.capitalize()\n",
    "while(answear != \"Yes\" and answear != \"No\" and answear != \"Neutrally\"):\n",
    "    answear = input(\"Incorrect data. Try again!\")\n",
    "    answear = answear.capitalize()\n",
    "\n",
    "if answear == \"Yes\":\n",
    "\tpreferences['English'] = 1\n",
    "elif answear == \"No\":\n",
    "\tpreferences['AnotherLanguage'] = 1\n",
    "\n",
    "#2\n",
    "a = input(\"Do you want the movie to last longer than 100 minutes? Yes/No/Neutrally\")\n",
    "answear = a.capitalize()\n",
    "while(answear != \"Yes\" and answear != \"No\" and answear != \"Neutrally\"):\n",
    "    answear = input(\"Incorrect data. Try again!\")\n",
    "    answear = answear.capitalize()\n",
    "\n",
    "if answear == \"Yes\":\n",
    "\tpreferences['Duration>=100'] = 1\n",
    "elif answear == \"No\":\n",
    "\tpreferences['Duration<100'] = 1\n",
    "\n",
    "#3\n",
    "answear = input(\"\"\"The movies are usually rated on a scale from 1 to 10. Does other people's opinion matter? 1/2/3/4 \\n\n",
    "1. No, movie can have less than 5 points \\n\n",
    "2. Kinda - 5 up to 7 points is fine with me \\n\n",
    "3. Give me only the best ones - over 7 points \\n\n",
    "4. I prefer to do my own judgement, so that's irrelevant\"\"\")\n",
    "\n",
    "while(answear not in ['1','2','3','4']):\n",
    "    answear = input(\"Incorrect data. Try again!\")\n",
    "\n",
    "if answear ==  '1':\n",
    "    preferences['Votes_till_5'] = 1\n",
    "elif answear ==  '2':\n",
    "    preferences['Votes_between_5_and_7'] = 1\n",
    "elif answear ==  '3':\n",
    "    preferences['Votes_over_7'] = 1\n",
    "\n",
    "#4\n",
    "answear = input(\"\"\"Which era should be the movie from? 1/2/3/4 \\n\n",
    "1. Before 1950 \\n\n",
    "2. Between 1950 and 1985 \\n\n",
    "3. After 1985 \\n\n",
    "4. I have no preferences\"\"\")\n",
    "\n",
    "while(answear not in ['1','2','3','4']):\n",
    "    answear = input(\"Incorrect data. Try again!\")\n",
    "\n",
    "if answear ==  '1':\n",
    "    preferences['Years_till_1950'] = 1\n",
    "elif answear ==  '2':\n",
    "    preferences['Years_1950-1985'] = 1\n",
    "elif answear ==  '3':\n",
    "    preferences['Years_after_1985'] = 1\n",
    "\n",
    "#5\n",
    "answear = input(\"\"\"Select your favourite genres from the list. Write them down seperated by spaces and press 'Enter'. (If you don't have preferences type 'Neutrally') : \\n \n",
    " Romance \n",
    " Biography \n",
    " Crime\n",
    " Drama\n",
    " History\n",
    " Adventure\n",
    " Fantasy\n",
    " War\n",
    " Mystery\n",
    " Horror\n",
    " Western\n",
    " Comedy\n",
    " Family\n",
    " Action\n",
    " Science-Fiction\n",
    " Thriller\n",
    " Sport\n",
    " Animation\n",
    " Musical\n",
    " Music\n",
    " Film-Noir\n",
    " Adult\n",
    " Documentary\n",
    " Reality-TV\n",
    " News\n",
    " \"\"\")\n"
   ]
  },
  {
   "cell_type": "code",
   "execution_count": 116,
   "metadata": {},
   "outputs": [],
   "source": [
    " if answear.capitalize() !=  'Neutrally' and answear != \"\":\n",
    "    movie_genres = answear.split(\" \")\n",
    "    for i in movie_genres:\n",
    "        i = i.capitalize()\n",
    "        if i in preferences:\n",
    "            preferences[i] = 1"
   ]
  },
  {
   "cell_type": "code",
   "execution_count": 117,
   "metadata": {},
   "outputs": [
    {
     "output_type": "stream",
     "name": "stdout",
     "text": [
      "{'Years_till_1950': 0, 'Years_1950-1985': 0, 'Years_after_1985': 1, 'Duration<100': 0, 'Duration>=100': 1, 'Votes_till_5': 0, 'Votes_between_5_and_7': 1, 'Votes_over_7': 0, 'English': 1, 'AnotherLanguage': 0, 'Romance': 0, 'Biography': 0, 'Crime': 0, 'Drama': 0, 'History': 0, 'Adventure': 0, 'Fantasy': 0, 'War': 0, 'Mystery': 0, 'Horror': 0, 'Western': 0, 'Comedy': 1, 'Family': 0, 'Action': 0, 'Sci-Fi': 0, 'Thriller': 0, 'Sport': 0, 'Animation': 0, 'Musical': 0, 'Music': 0, 'Film-Noir': 0, 'Adult': 0, 'Documentary': 0, 'Reality-TV': 0, 'News': 0}\n"
     ]
    }
   ],
   "source": [
    "print(preferences)"
   ]
  },
  {
   "cell_type": "code",
   "execution_count": 118,
   "metadata": {},
   "outputs": [],
   "source": [
    "finale = finale.drop(\"imdb_title_id\", axis=1)"
   ]
  },
  {
   "cell_type": "code",
   "execution_count": 119,
   "metadata": {},
   "outputs": [],
   "source": [
    "result = SoftSet.classify(preferences,id,finale)\n",
    "titles = []"
   ]
  },
  {
   "cell_type": "code",
   "execution_count": 120,
   "metadata": {},
   "outputs": [
    {
     "output_type": "stream",
     "name": "stdout",
     "text": [
      "We offer you the following movies: \n \n\nTitle: Because Why\nOryginal title: Because Why\nYear: 1993\nGenre: Comedy, Romance\nDuration: 104\nCountry: Canada\nLanguage: English\nDirector: Arto Paragamian\nWriterClaude Gagnon, Arto Paragamian\nProduction company: Aska Film Productions\nActors: Michael Riley, Martine Rochon, Doru Bandol, Heather Mathieson, Tod Fennell, Maggie Castle, John Dunn-Hill, Victor Knight, Betty Cluthe, Maral Hassib, Hank Hum, Aron Tager, François Cadieux, Riley Wood, Didier Lucien\nDescription: After five years of travelling abroad, Alex arrives back in Montreal. All he has with him are a back-pack and a slip of paper with an ex-girlfriend's address scrawled on it. When this ...\n\n \n\nTitle: Che aria tira lassù?\nOryginal title: The Air Up There\nYear: 1994\nGenre: Comedy, Family, Sport\nDuration: 107\nCountry: USA\nLanguage: English\nDirector: Paul Michael Glaser\nWriterMax Apple\nProduction company: Hollywood Pictures\nActors: Kevin Bacon, Charles Gitonga Maina, Yolanda Vazquez, Winston Ntshona, Mabutho 'Kid' Sithole, Sean McCann, Dennis Patrick, Ilo Mutombo, Nigel Miguel, Eric Menyuk, Keith Gibbs, Miriam Owiti, Douglas Leboyare, Francis Mutei, Gibson Gathu Mbugua\nDescription: Jimmy Dolan is a college basketball coach who wants a big promotion. To get it, he needs to make a dramatic find. He ends up deep in Africa, hoping to recruit Saleh, a huge basketball ...\n\n \n\nTitle: Childhood's End\nOryginal title: Childhood's End\nYear: 1996\nGenre: Comedy, Drama, Romance\nDuration: 115\nCountry: USA\nLanguage: English\nDirector: Jeff Lipsky\nWriterJeff Lipsky\nProduction company: Plainview Pictures\nActors: Cameron Foord, Heather Gottlieb, Sam Trammell, Colleen Werthmann, Bridget White, Reiko Aylesworth, Mark Bendo, Robert Capelli Jr., Phil Coccioletti, Georgia Creighton, Edie Falco, David Goodman, Marlon Hecht, Bryan Hicks, Garland Hunter\nDescription: A story of two teens discovering their budding sexuality. Greg is having his first sexual experience and first relationship with his friend's mother, a woman twice his age....while Denise ...\n\n \n\nTitle: 35 and Ticking\nOryginal title: 35 and Ticking\nYear: 2011\nGenre: Comedy, Romance\nDuration: 104\nCountry: USA\nLanguage: English\nDirector: Russ Parr\nWriternan\nProduction company: Swirl Films\nActors: Tamala Jones, Nicole Ari Parker, Kevin Hart, Keith Robinson, Darius McCrary, Meagan Good, Dondré T. Whitfield, Jill Marie Jones, Clifton Powell, Wendy Raquel Robinson, Luenell, Nicholas C. Williams, Mike Epps, Karon Riley, Kym Whitley\nDescription: A romantic comedy which looks at a group of thirty-somethings trying to figure out life, love and marriage.\n\n \n\nTitle: Colossal\nOryginal title: Colossal\nYear: 2016\nGenre: Comedy, Drama, Fantasy\nDuration: 109\nCountry: Canada, USA, Spain, South Korea\nLanguage: English, Korean\nDirector: Nacho Vigalondo\nWriterNacho Vigalondo\nProduction company: Toy Fight Productions\nActors: Anne Hathaway, Jason Sudeikis, Austin Stowell, Tim Blake Nelson, Dan Stevens, Hannah Cheramy, Nathan Ellison, Sarah Surh, Haeun Hannah Cho, Carlos Joe Costa, Melissa M. Montgomery, Christine Lee, Rukiya Bernard, James Yi, Alyssa Dawson\nDescription: Gloria is an out-of-work party girl forced to leave her life in New York City and move back home. When reports surface that a giant creature is destroying Seoul, she gradually comes to the realization that she is somehow connected to this phenomenon.\n\n \n\n"
     ]
    }
   ],
   "source": [
    "for i in range(len(baseReady)):\n",
    "    if baseReady.iloc[i]['imdb_title_id'] in str(result):\n",
    "        titles.append(baseReady.iloc[i])\n",
    "    if len(titles)==len(result):\n",
    "        break\n",
    "\n",
    "info = [\"Title: \", \"Oryginal title: \", \"Year: \", \"Genre: \", \"Duration: \", \"Country: \", \"Language: \", \"Director: \", \"Writer\", \"Production company: \", \"Actors: \", \"Description: \", \"Average vote: \"]    \n",
    "\n",
    "print(\"We offer you the following movies: \\n \\n\")\n",
    "for i in range(5):\n",
    "    for j in range(1,len(info)):\n",
    "        print(info[j-1] + str(titles[i][j]))\n",
    "    print(\"\\n \\n\")"
   ]
  },
  {
   "cell_type": "code",
   "execution_count": null,
   "metadata": {},
   "outputs": [],
   "source": []
  }
 ]
}