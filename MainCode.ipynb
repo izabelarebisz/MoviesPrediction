{
 "metadata": {
  "language_info": {
   "codemirror_mode": {
    "name": "ipython",
    "version": 3
   },
   "file_extension": ".py",
   "mimetype": "text/x-python",
   "name": "python",
   "nbconvert_exporter": "python",
   "pygments_lexer": "ipython3",
   "version": "3.9.0"
  },
  "orig_nbformat": 2,
  "kernelspec": {
   "name": "python390jvsc74a57bd0be854af5952142a4b253fd59e9a30ea88985ea8fe5ca1108e33df76f13f66465",
   "display_name": "Python 3.9.0 64-bit"
  },
  "metadata": {
   "interpreter": {
    "hash": "be854af5952142a4b253fd59e9a30ea88985ea8fe5ca1108e33df76f13f66465"
   }
  }
 },
 "nbformat": 4,
 "nbformat_minor": 2,
 "cells": [
  {
   "cell_type": "code",
   "execution_count": 25,
   "metadata": {},
   "outputs": [],
   "source": [
    "import numpy as np\n",
    "import pandas as pd\n",
    "import seaborn as sns \n",
    "sns.set_palette('husl')\n"
   ]
  },
  {
   "cell_type": "code",
   "execution_count": 26,
   "metadata": {},
   "outputs": [
    {
     "output_type": "stream",
     "name": "stderr",
     "text": [
      "C:\\Users\\Natalie\\AppData\\Roaming\\Python\\Python39\\site-packages\\IPython\\core\\interactiveshell.py:3165: DtypeWarning: Columns (3) have mixed types.Specify dtype option on import or set low_memory=False.\n  has_raised = await self.run_ast_nodes(code_ast.body, cell_name,\n"
     ]
    }
   ],
   "source": [
    "dane = pd.read_csv(\"IMDb movies.csv\")"
   ]
  },
  {
   "cell_type": "code",
   "execution_count": 27,
   "metadata": {},
   "outputs": [],
   "source": [
    "baseReady = pd.read_csv(\"baseReady.csv\")"
   ]
  },
  {
   "cell_type": "code",
   "execution_count": 28,
   "metadata": {},
   "outputs": [],
   "source": [
    "finale=pd.read_csv(\"final_base.csv\")\n",
    "finale = finale.drop(\"imdb_title_id\", axis=1)"
   ]
  },
  {
   "cell_type": "code",
   "execution_count": 29,
   "metadata": {},
   "outputs": [],
   "source": [
    "class SoftSet:\n",
    "    @staticmethod\n",
    "    def classify(sample, X, Y):\n",
    "\n",
    "        values = {}\n",
    "        for j in range (0, len(X), 1):\n",
    "            values[X[j]] = 0\n",
    "    \n",
    "        for i in range(len(Y)):\n",
    "            for key in Y.columns:\n",
    "                values[X[i]] += Y.iloc[i][key] * sample[key]\n",
    "\n",
    "        values = sorted(values.items(), key = lambda kv:(kv[1], kv[0]),reverse= True)\n",
    "\n",
    "        result = []\n",
    "        for i in range(5):\n",
    "            result.append(values[i][0])\n",
    "            #print(values[i][0])\n",
    "\n",
    "        return result\n"
   ]
  },
  {
   "cell_type": "code",
   "execution_count": 30,
   "metadata": {
    "tags": []
   },
   "outputs": [],
   "source": [
    "id, result, titles = [], [], []\n",
    "\n",
    "#zbiór X <- id\n",
    "for i in range(len(dane)):\n",
    "    id.append(dane.iloc[i]['imdb_title_id'])\n",
    "\n",
    "#zbiór Y <- finale\n",
    "\n",
    "#sample <- preferences\n",
    "preferences = {\n",
    "'Years_till_1950':0,'Years_1950-1985':0,'Years_after_1985':0,'Duration<100':0,'Duration>=100':0,\n",
    "'Votes_till_5':0,'Votes_between_5_and_7':0,'Votes_over_7':0,'English':0,'AnotherLanguage':0,\n",
    "'Romance':0,'Biography':0,'Crime':0,'Drama':0,'History':0,'Adventure':0,'Fantasy':0,'War':0,\n",
    "'Mystery':0,'Horror':0,'Western':0,'Comedy':0,'Family':0,'Action':0,'Sci-Fi':0,'Thriller':0,\n",
    "'Sport':0,'Animation':0,'Musical':0,'Music':0,'Film-Noir':0,'Adult':0,'Documentary':0,'Reality-TV':0,'News':0\n",
    "}\n",
    "\n",
    "\n",
    "\n"
   ]
  },
  {
   "cell_type": "code",
   "execution_count": 31,
   "metadata": {},
   "outputs": [],
   "source": [
    "#POBIERANIE ODPOWIEDZI\n",
    "\n",
    "#1\n",
    "a = input(\"Do you want the characters to speak English? Yes/No/Neutrally\")\n",
    "answear = a.capitalize()\n",
    "while(answear != \"Yes\" and answear != \"No\" and answear != \"Neutrally\"):\n",
    "    answear = input(\"Incorrect data. Try again!\")\n",
    "    answear = answear.capitalize()\n",
    "\n",
    "if answear == \"Yes\":\n",
    "\tpreferences['English'] = 1\n",
    "elif answear == \"No\":\n",
    "\tpreferences['AnotherLanguage'] = 1\n",
    "\n",
    "\n",
    "\n",
    "\n",
    "#2\n",
    "a = input(\"Do you want the movie to last longer than 100 minutes? Yes/No/Neutrally\")\n",
    "answear = a.capitalize()\n",
    "while(answear != \"Yes\" and answear != \"No\" and answear != \"Neutrally\"):\n",
    "    answear = input(\"Incorrect data. Try again!\")\n",
    "    answear = answear.capitalize()\n",
    "\n",
    "if answear == \"Yes\":\n",
    "\tpreferences['Duration>=100'] = 1\n",
    "elif answear == \"No\":\n",
    "\tpreferences['Duration<100'] = 1\n",
    "\n",
    "\n",
    "\n",
    "\n",
    "\n",
    "#3\n",
    "answear = input(\"\"\"The movies are usually rated on a scale from 1 to 10. Does other people's opinion matter? 1/2/3/4 \\n\n",
    "1. No, movie can have less than 5 points \\n\n",
    "2. Kinda - 5 up to 7 points is fine with me \\n\n",
    "3. Give me only the best ones - over 7 points \\n\n",
    "4. I prefer to do my own judgement, so that's irrelevant\"\"\")\n",
    "\n",
    "while(answear not in ['1','2','3','4']):\n",
    "    answear = input(\"Incorrect data. Try again!\")\n",
    "\n",
    "if answear ==  '1':\n",
    "    preferences['Votes_till_5'] = 1\n",
    "elif answear ==  '2':\n",
    "    preferences['Votes_between_5_and_7'] = 1\n",
    "elif answear ==  '3':\n",
    "    preferences['Votes_over_7'] = 1\n",
    "\n",
    "\n",
    "\n",
    "\n",
    "#4\n",
    "answear = input(\"\"\"Which era should be the movie from? 1/2/3/4 \\n\n",
    "1. Before 1950 \\n\n",
    "2. Between 1950 and 1985 \\n\n",
    "3. After 1985 \\n\n",
    "4. I have no preferences\"\"\")\n",
    "\n",
    "while(answear not in ['1','2','3','4']):\n",
    "    answear = input(\"Incorrect data. Try again!\")\n",
    "\n",
    "if answear ==  '1':\n",
    "    preferences['Years_till_1950'] = 1\n",
    "elif answear ==  '2':\n",
    "    preferences['Years_1950-1985'] = 1\n",
    "elif answear ==  '3':\n",
    "    preferences['Years_after_1985'] = 1\n",
    "\n",
    "\n",
    "\n",
    "\n",
    "#5\n",
    "answear = input(\"\"\"Select your favourite genres from the list. Write them down seperated by spaces and press 'Enter'. (If you don't have preferences type 'Neutrally') : \\n \n",
    " Romance \n",
    " Biography \n",
    " Crime\n",
    " Drama\n",
    " History\n",
    " Adventure\n",
    " Fantasy\n",
    " War\n",
    " Mystery\n",
    " Horror\n",
    " Western\n",
    " Comedy\n",
    " Family\n",
    " Action\n",
    " Science-Fiction\n",
    " Thriller\n",
    " Sport\n",
    " Animation\n",
    " Musical\n",
    " Music\n",
    " Film-Noir\n",
    " Adult\n",
    " Documentary\n",
    " Reality-TV\n",
    " News\n",
    " \"\"\")\n",
    "\n",
    "\n"
   ]
  },
  {
   "cell_type": "code",
   "execution_count": 32,
   "metadata": {},
   "outputs": [],
   "source": [
    " if answear.capitalize() !=  'Neutrally' and answear != \"\":\n",
    "    movie_genres = answear.split(\" \")\n",
    "    for i in movie_genres:\n",
    "        i = i.capitalize()\n",
    "        if i in preferences:\n",
    "            preferences[i] = 1"
   ]
  },
  {
   "cell_type": "code",
   "execution_count": 33,
   "metadata": {},
   "outputs": [
    {
     "output_type": "stream",
     "name": "stdout",
     "text": [
      "{'Years_till_1950': 0, 'Years_1950-1985': 0, 'Years_after_1985': 1, 'Duration<100': 0, 'Duration>=100': 1, 'Votes_till_5': 0, 'Votes_between_5_and_7': 0, 'Votes_over_7': 1, 'English': 0, 'AnotherLanguage': 1, 'Romance': 1, 'Biography': 0, 'Crime': 0, 'Drama': 1, 'History': 0, 'Adventure': 0, 'Fantasy': 0, 'War': 0, 'Mystery': 0, 'Horror': 0, 'Western': 0, 'Comedy': 0, 'Family': 0, 'Action': 0, 'Sci-Fi': 0, 'Thriller': 0, 'Sport': 1, 'Animation': 0, 'Musical': 1, 'Music': 1, 'Film-Noir': 0, 'Adult': 0, 'Documentary': 0, 'Reality-TV': 0, 'News': 0}\n"
     ]
    }
   ],
   "source": [
    "print(preferences)"
   ]
  },
  {
   "cell_type": "code",
   "execution_count": 34,
   "metadata": {},
   "outputs": [
    {
     "output_type": "stream",
     "name": "stdout",
     "text": [
      "We offer you the following movies: \n \n\nTitle: Sanam Teri Kasam\nOryginal title: Sanam Teri Kasam\nYear: 2016\nGenre: Drama, Musical, Romance\nDuration: 154\nCountry: India\nLanguage: Hindi\nDirector: Radhika Rao, Vinay Sapru\nWriterRadhika Rao, Vinay Sapru\nProduction company: Jhoom Jhoom Productions\nActors: Harshvardhan Rane, Mawra Hocane, Vijay Raaz, Murli Sharma, Manish Chaudhary, Annurag Sinha, Sudesh Berry, Pyomori Mehta, Shradha Das, Rushad Rana, Pawan Singh, Alok Pandey, Divyetta Kaveri, Sunil Dutt, Ashoka\nDescription: After being disowned by her family, an awkward librarian relies on the help of her brooding neighbour.\n\n \n\nTitle: Janaan\nOryginal title: Janaan\nYear: 2016\nGenre: Drama, Musical, Romance\nDuration: 133\nCountry: Pakistan\nLanguage: Urdu, Pushto\nDirector: Azfar Jafri\nWriterOsman Khalid Butt\nProduction company: IRK Films\nActors: Hania Aamir, Saad Zia Abbasi, Bilal Ashraf, Nayyar Ejaz, Ajab Gul, Ali Rehman Khan, Armeena Rana Khan, Jalal Khan, Mishi Khan, Shafqat Khan, Usman Mukhtar, Fahad Ali Panni\nDescription: The story of a Pakhtun girl who returns from Canada to attend her cousin's wedding in Swat, Pakistan and falls in love.\n\n \n\nTitle: Mario\nOryginal title: Mario\nYear: 2018\nGenre: Drama, Romance, Sport\nDuration: 124\nCountry: Switzerland\nLanguage: Swiss German, German\nDirector: Marcel Gisler\nWriterThomas Hess, Marcel Gisler\nProduction company: Triluna Film AG\nActors: Max Hubacher, Aaron Altaras, Jessy Moravec, Jürg Plüss, Doro Müggler, Andreas Matti, Joris Gratwohl, Scherwin Amini, Fabrizio Borsani, Julian Koechlin, Gabriel Noah Maurer, Stallone Anderson, Manuel Pereira, Tom Burri, Beat Marti\nDescription: Two young football players get caught up between the politics of the game and the politics of love.\n\n \n\nTitle: Nonsense\nOryginal title: Nonsense\nYear: 2018\nGenre: Drama, Romance, Sport\nDuration: 147\nCountry: India\nLanguage: Malayalam\nDirector: Mc Jithin\nWriterMc Jithin, Mc Jithin\nProduction company: Johny Sagariga Group Of Co's\nActors: Rinosh George, Vinay Forrt, Shruti Ramachandran, Febia Mathew, Lalu Alex, Kalabhavan Shajohn, Anil Nedumangad, Sreenath Babu, Alma, Divya Prabha, Sanju Sivram, Baby, Bitto Davis, Jewel George, Shine C. George\nDescription: A bright but misunderstood student, who has a passion for BMX and a love for science, in his search for humanity. His faith in humanity is tested when something unexpected happens.\n\n \n\nTitle: June\nOryginal title: June\nYear: 2019\nGenre: Drama, Musical, Romance\nDuration: 141\nCountry: India\nLanguage: Malayalam\nDirector: Ahammed Khabeer\nWriterAhammed Khabeer, Jeevan Baby Mathew\nProduction company: Friday Film House\nActors: Rajisha Vijayan, Sarjano Khalid, Joju George, Arjun Asokan, Aswathi Menon, Vaishnavi Venugopal, Sruthy Jayan, Sunny Wayne, Aju Varghese, Jolly Chirayath, Shiny T. Rajan, Margret Antony, Vineeth Thattil David, Nayana Elza, Harisankar\nDescription: The life story of a girl named June from 16 years of her age until she turned 26, thereby giving an insight into those ten years of her life.\n\n \n\n"
     ]
    }
   ],
   "source": [
    "result = SoftSet.classify(preferences,id,finale)\n",
    "#import sys\n",
    "titles = []\n",
    "\n",
    "for i in range(len(dane)):\n",
    "    if dane.iloc[i]['imdb_title_id'] in str(result):\n",
    "        titles.append(baseReady.iloc[i])\n",
    "\n",
    "info = [\"Title: \", \"Oryginal title: \", \"Year: \", \"Genre: \", \"Duration: \", \"Country: \", \"Language: \", \"Director: \", \"Writer\", \"Production company: \", \"Actors: \", \"Description: \", \"Average vote: \"]    \n",
    "\n",
    "print(\"We offer you the following movies: \\n \\n\")\n",
    "for i in range(5):\n",
    "    for j in range(1,len(info)):\n",
    "        print(info[j-1] + str(titles[i][j]))\n",
    "    print(\"\\n \\n\")"
   ]
  },
  {
   "cell_type": "code",
   "execution_count": null,
   "metadata": {},
   "outputs": [],
   "source": []
  }
 ]
}