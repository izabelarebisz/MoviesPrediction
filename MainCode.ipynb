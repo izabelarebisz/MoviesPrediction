{
 "metadata": {
  "language_info": {
   "codemirror_mode": {
    "name": "ipython",
    "version": 3
   },
   "file_extension": ".py",
   "mimetype": "text/x-python",
   "name": "python",
   "nbconvert_exporter": "python",
   "pygments_lexer": "ipython3",
   "version": "3.9.0"
  },
  "orig_nbformat": 2,
  "kernelspec": {
   "name": "python390jvsc74a57bd0cc90fdc0a43b3ef313eed76c8942ccde36414797e218aa315a79efaf15430ad3",
   "display_name": "Python 3.9.0 64-bit"
  },
  "metadata": {
   "interpreter": {
    "hash": "cc90fdc0a43b3ef313eed76c8942ccde36414797e218aa315a79efaf15430ad3"
   }
  }
 },
 "nbformat": 4,
 "nbformat_minor": 2,
 "cells": [
  {
   "cell_type": "code",
   "execution_count": 31,
   "metadata": {},
   "outputs": [],
   "source": [
    "import numpy as np\n",
    "import pandas as pd\n",
    "import seaborn as sns \n",
    "sns.set_palette('husl')"
   ]
  },
  {
   "cell_type": "code",
   "execution_count": 32,
   "metadata": {},
   "outputs": [
    {
     "output_type": "stream",
     "name": "stderr",
     "text": [
      "C:\\Users\\izabe\\AppData\\Roaming\\Python\\Python39\\site-packages\\IPython\\core\\interactiveshell.py:3165: DtypeWarning: Columns (3) have mixed types.Specify dtype option on import or set low_memory=False.\n  has_raised = await self.run_ast_nodes(code_ast.body, cell_name,\n"
     ]
    }
   ],
   "source": [
    "dane = pd.read_csv(\"IMDb movies.csv\")"
   ]
  },
  {
   "cell_type": "code",
   "execution_count": 33,
   "metadata": {},
   "outputs": [],
   "source": [
    "k = dane.drop(\"date_published\", axis=1)\n",
    "k1 = k.drop(\"votes\", axis=1)\n",
    "k2 = k1.drop(\"budget\", axis=1)\n",
    "k3 = k2.drop(\"usa_gross_income\", axis=1)\n",
    "k4 = k3.drop(\"worlwide_gross_income\", axis=1)\n",
    "k5 = k4.drop(\"metascore\", axis = 1)\n",
    "k6 = k5.drop(\"reviews_from_users\", axis=1)\n",
    "baseReady = k6.drop(\"reviews_from_critics\", axis=1)"
   ]
  },
  {
   "cell_type": "code",
   "execution_count": 4,
   "metadata": {},
   "outputs": [
    {
     "output_type": "execute_result",
     "data": {
      "text/plain": [
       "  imdb_title_id                        title               original_title  \\\n",
       "0     tt0000009                   Miss Jerry                   Miss Jerry   \n",
       "1     tt0000574  The Story of the Kelly Gang  The Story of the Kelly Gang   \n",
       "2     tt0001892               Den sorte drøm               Den sorte drøm   \n",
       "3     tt0002101                    Cleopatra                    Cleopatra   \n",
       "4     tt0002130                    L'Inferno                    L'Inferno   \n",
       "\n",
       "   year                      genre  duration           country language  \\\n",
       "0  1894                    Romance        45               USA     None   \n",
       "1  1906    Biography, Crime, Drama        70         Australia     None   \n",
       "2  1911                      Drama        53  Germany, Denmark      NaN   \n",
       "3  1912             Drama, History       100               USA  English   \n",
       "4  1911  Adventure, Drama, Fantasy        68             Italy  Italian   \n",
       "\n",
       "                              director                                 writer  \\\n",
       "0                      Alexander Black                        Alexander Black   \n",
       "1                         Charles Tait                           Charles Tait   \n",
       "2                            Urban Gad  Urban Gad, Gebhard Schätzler-Perasini   \n",
       "3                   Charles L. Gaskill                       Victorien Sardou   \n",
       "4  Francesco Bertolini, Adolfo Padovan                        Dante Alighieri   \n",
       "\n",
       "              production_company  \\\n",
       "0     Alexander Black Photoplays   \n",
       "1                 J. and N. Tait   \n",
       "2                       Fotorama   \n",
       "3  Helen Gardner Picture Players   \n",
       "4                    Milano Film   \n",
       "\n",
       "                                              actors  \\\n",
       "0  Blanche Bayliss, William Courtenay, Chauncey D...   \n",
       "1  Elizabeth Tait, John Tait, Norman Campbell, Be...   \n",
       "2  Asta Nielsen, Valdemar Psilander, Gunnar Helse...   \n",
       "3  Helen Gardner, Pearl Sindelar, Miss Fielding, ...   \n",
       "4  Salvatore Papa, Arturo Pirovano, Giuseppe de L...   \n",
       "\n",
       "                                         description  avg_vote  \n",
       "0  The adventures of a female reporter in the 1890s.       5.9  \n",
       "1  True story of notorious Australian outlaw Ned ...       6.1  \n",
       "2  Two men of high rank are both wooing the beaut...       5.8  \n",
       "3  The fabled queen of Egypt's affair with Roman ...       5.2  \n",
       "4  Loosely adapted from Dante's Divine Comedy and...       7.0  "
      ],
      "text/html": "<div>\n<style scoped>\n    .dataframe tbody tr th:only-of-type {\n        vertical-align: middle;\n    }\n\n    .dataframe tbody tr th {\n        vertical-align: top;\n    }\n\n    .dataframe thead th {\n        text-align: right;\n    }\n</style>\n<table border=\"1\" class=\"dataframe\">\n  <thead>\n    <tr style=\"text-align: right;\">\n      <th></th>\n      <th>imdb_title_id</th>\n      <th>title</th>\n      <th>original_title</th>\n      <th>year</th>\n      <th>genre</th>\n      <th>duration</th>\n      <th>country</th>\n      <th>language</th>\n      <th>director</th>\n      <th>writer</th>\n      <th>production_company</th>\n      <th>actors</th>\n      <th>description</th>\n      <th>avg_vote</th>\n    </tr>\n  </thead>\n  <tbody>\n    <tr>\n      <th>0</th>\n      <td>tt0000009</td>\n      <td>Miss Jerry</td>\n      <td>Miss Jerry</td>\n      <td>1894</td>\n      <td>Romance</td>\n      <td>45</td>\n      <td>USA</td>\n      <td>None</td>\n      <td>Alexander Black</td>\n      <td>Alexander Black</td>\n      <td>Alexander Black Photoplays</td>\n      <td>Blanche Bayliss, William Courtenay, Chauncey D...</td>\n      <td>The adventures of a female reporter in the 1890s.</td>\n      <td>5.9</td>\n    </tr>\n    <tr>\n      <th>1</th>\n      <td>tt0000574</td>\n      <td>The Story of the Kelly Gang</td>\n      <td>The Story of the Kelly Gang</td>\n      <td>1906</td>\n      <td>Biography, Crime, Drama</td>\n      <td>70</td>\n      <td>Australia</td>\n      <td>None</td>\n      <td>Charles Tait</td>\n      <td>Charles Tait</td>\n      <td>J. and N. Tait</td>\n      <td>Elizabeth Tait, John Tait, Norman Campbell, Be...</td>\n      <td>True story of notorious Australian outlaw Ned ...</td>\n      <td>6.1</td>\n    </tr>\n    <tr>\n      <th>2</th>\n      <td>tt0001892</td>\n      <td>Den sorte drøm</td>\n      <td>Den sorte drøm</td>\n      <td>1911</td>\n      <td>Drama</td>\n      <td>53</td>\n      <td>Germany, Denmark</td>\n      <td>NaN</td>\n      <td>Urban Gad</td>\n      <td>Urban Gad, Gebhard Schätzler-Perasini</td>\n      <td>Fotorama</td>\n      <td>Asta Nielsen, Valdemar Psilander, Gunnar Helse...</td>\n      <td>Two men of high rank are both wooing the beaut...</td>\n      <td>5.8</td>\n    </tr>\n    <tr>\n      <th>3</th>\n      <td>tt0002101</td>\n      <td>Cleopatra</td>\n      <td>Cleopatra</td>\n      <td>1912</td>\n      <td>Drama, History</td>\n      <td>100</td>\n      <td>USA</td>\n      <td>English</td>\n      <td>Charles L. Gaskill</td>\n      <td>Victorien Sardou</td>\n      <td>Helen Gardner Picture Players</td>\n      <td>Helen Gardner, Pearl Sindelar, Miss Fielding, ...</td>\n      <td>The fabled queen of Egypt's affair with Roman ...</td>\n      <td>5.2</td>\n    </tr>\n    <tr>\n      <th>4</th>\n      <td>tt0002130</td>\n      <td>L'Inferno</td>\n      <td>L'Inferno</td>\n      <td>1911</td>\n      <td>Adventure, Drama, Fantasy</td>\n      <td>68</td>\n      <td>Italy</td>\n      <td>Italian</td>\n      <td>Francesco Bertolini, Adolfo Padovan</td>\n      <td>Dante Alighieri</td>\n      <td>Milano Film</td>\n      <td>Salvatore Papa, Arturo Pirovano, Giuseppe de L...</td>\n      <td>Loosely adapted from Dante's Divine Comedy and...</td>\n      <td>7.0</td>\n    </tr>\n  </tbody>\n</table>\n</div>"
     },
     "metadata": {},
     "execution_count": 4
    }
   ],
   "source": [
    "baseReady.head()"
   ]
  },
  {
   "cell_type": "code",
   "execution_count": 54,
   "metadata": {},
   "outputs": [
    {
     "output_type": "execute_result",
     "data": {
      "text/plain": [
       "  imdb_title_id Romance Biography Crime Drama History Adventure Fantasy War  \\\n",
       "0     tt0000009       0         0     0     0       0         0       0   0   \n",
       "1     tt0000574       0         0     0     0       0         0       0   0   \n",
       "2     tt0001892       0         0     0     0       0         0       0   0   \n",
       "3     tt0002101       0         0     0     0       0         0       0   0   \n",
       "4     tt0002130       0         0     0     0       0         0       0   0   \n",
       "\n",
       "  Mystery  ... Thriller Sport Animation Musical Music Film-Noir Adult  \\\n",
       "0       0  ...        0     0         0       0     0         0     0   \n",
       "1       0  ...        0     0         0       0     0         0     0   \n",
       "2       0  ...        0     0         0       0     0         0     0   \n",
       "3       0  ...        0     0         0       0     0         0     0   \n",
       "4       0  ...        0     0         0       0     0         0     0   \n",
       "\n",
       "  Documentary Reality-TV News  \n",
       "0           0          0    0  \n",
       "1           0          0    0  \n",
       "2           0          0    0  \n",
       "3           0          0    0  \n",
       "4           0          0    0  \n",
       "\n",
       "[5 rows x 26 columns]"
      ],
      "text/html": "<div>\n<style scoped>\n    .dataframe tbody tr th:only-of-type {\n        vertical-align: middle;\n    }\n\n    .dataframe tbody tr th {\n        vertical-align: top;\n    }\n\n    .dataframe thead th {\n        text-align: right;\n    }\n</style>\n<table border=\"1\" class=\"dataframe\">\n  <thead>\n    <tr style=\"text-align: right;\">\n      <th></th>\n      <th>imdb_title_id</th>\n      <th>Romance</th>\n      <th>Biography</th>\n      <th>Crime</th>\n      <th>Drama</th>\n      <th>History</th>\n      <th>Adventure</th>\n      <th>Fantasy</th>\n      <th>War</th>\n      <th>Mystery</th>\n      <th>...</th>\n      <th>Thriller</th>\n      <th>Sport</th>\n      <th>Animation</th>\n      <th>Musical</th>\n      <th>Music</th>\n      <th>Film-Noir</th>\n      <th>Adult</th>\n      <th>Documentary</th>\n      <th>Reality-TV</th>\n      <th>News</th>\n    </tr>\n  </thead>\n  <tbody>\n    <tr>\n      <th>0</th>\n      <td>tt0000009</td>\n      <td>0</td>\n      <td>0</td>\n      <td>0</td>\n      <td>0</td>\n      <td>0</td>\n      <td>0</td>\n      <td>0</td>\n      <td>0</td>\n      <td>0</td>\n      <td>...</td>\n      <td>0</td>\n      <td>0</td>\n      <td>0</td>\n      <td>0</td>\n      <td>0</td>\n      <td>0</td>\n      <td>0</td>\n      <td>0</td>\n      <td>0</td>\n      <td>0</td>\n    </tr>\n    <tr>\n      <th>1</th>\n      <td>tt0000574</td>\n      <td>0</td>\n      <td>0</td>\n      <td>0</td>\n      <td>0</td>\n      <td>0</td>\n      <td>0</td>\n      <td>0</td>\n      <td>0</td>\n      <td>0</td>\n      <td>...</td>\n      <td>0</td>\n      <td>0</td>\n      <td>0</td>\n      <td>0</td>\n      <td>0</td>\n      <td>0</td>\n      <td>0</td>\n      <td>0</td>\n      <td>0</td>\n      <td>0</td>\n    </tr>\n    <tr>\n      <th>2</th>\n      <td>tt0001892</td>\n      <td>0</td>\n      <td>0</td>\n      <td>0</td>\n      <td>0</td>\n      <td>0</td>\n      <td>0</td>\n      <td>0</td>\n      <td>0</td>\n      <td>0</td>\n      <td>...</td>\n      <td>0</td>\n      <td>0</td>\n      <td>0</td>\n      <td>0</td>\n      <td>0</td>\n      <td>0</td>\n      <td>0</td>\n      <td>0</td>\n      <td>0</td>\n      <td>0</td>\n    </tr>\n    <tr>\n      <th>3</th>\n      <td>tt0002101</td>\n      <td>0</td>\n      <td>0</td>\n      <td>0</td>\n      <td>0</td>\n      <td>0</td>\n      <td>0</td>\n      <td>0</td>\n      <td>0</td>\n      <td>0</td>\n      <td>...</td>\n      <td>0</td>\n      <td>0</td>\n      <td>0</td>\n      <td>0</td>\n      <td>0</td>\n      <td>0</td>\n      <td>0</td>\n      <td>0</td>\n      <td>0</td>\n      <td>0</td>\n    </tr>\n    <tr>\n      <th>4</th>\n      <td>tt0002130</td>\n      <td>0</td>\n      <td>0</td>\n      <td>0</td>\n      <td>0</td>\n      <td>0</td>\n      <td>0</td>\n      <td>0</td>\n      <td>0</td>\n      <td>0</td>\n      <td>...</td>\n      <td>0</td>\n      <td>0</td>\n      <td>0</td>\n      <td>0</td>\n      <td>0</td>\n      <td>0</td>\n      <td>0</td>\n      <td>0</td>\n      <td>0</td>\n      <td>0</td>\n    </tr>\n  </tbody>\n</table>\n<p>5 rows × 26 columns</p>\n</div>"
     },
     "metadata": {},
     "execution_count": 54
    }
   ],
   "source": [
    "# stworzenie bazy z gatunkami i wypełnenie jej zerami\n",
    "df_genres = pd.DataFrame()\n",
    "for genre in range(len(baseReady)):\n",
    "    value = baseReady.iloc[genre]['genre']\n",
    "    value = value.split(',')\n",
    "    for one_genre in range(len(value)):\n",
    "        value[one_genre] = value[one_genre].lstrip()\n",
    "        value[one_genre] = value[one_genre].rstrip()\n",
    "        df_genres[value[one_genre]]=0\n",
    "\n",
    "df_genres = df_genres.drop_duplicates()\n",
    "\n",
    "idtitles = pd.DataFrame(data =baseReady.iloc[:]['imdb_title_id'],columns=[\"imdb_title_id\"])\n",
    "\n",
    "table_for_softset = pd.concat([id, df_genres], ignore_index=True)\n",
    "\n",
    "nan_value = float(\"NaN\")\n",
    "table_for_softset = table_for_softset.fillna('0')\n",
    "table_for_softset.head()\n"
   ]
  },
  {
   "cell_type": "code",
   "execution_count": 55,
   "metadata": {
    "tags": []
   },
   "outputs": [],
   "source": [
    "# wstawienie jedynek w odpowiednie miejsca\n",
    "for title in range(len(table_for_softset)):\n",
    "\n",
    "    for genres in range(1,len(table_for_softset.columns)):\n",
    "        genre = baseReady.iloc[title]['genre']\n",
    "        genre = genre.split(',')\n",
    "        for one_genre in range(len(genre)):\n",
    "            genre[one_genre] = genre[one_genre].lstrip()\n",
    "            genre[one_genre] = genre[one_genre].rstrip()\n",
    "            if genre[one_genre] == table_for_softset.columns[genres]:\n",
    "                table_for_softset.at[title,genre[one_genre]] = 1\n",
    "\n",
    "#table_for_softset.to_csv('final_base.csv',index=False)\n"
   ]
  },
  {
   "cell_type": "code",
   "execution_count": 56,
   "metadata": {},
   "outputs": [],
   "source": [
    "#tworzenie kolumn i zer na YEARS\n",
    "table_for_softset.insert(1, \"Years_till_1950\", 0,False)\n",
    "table_for_softset.insert(2, \"Years_1950-1985\", 0,False)\n",
    "table_for_softset.insert(3, \"Years_after_1985\", 0,False)\n"
   ]
  },
  {
   "cell_type": "code",
   "execution_count": 57,
   "metadata": {},
   "outputs": [],
   "source": [
    "#tworzenie kolumn i zer na DURATION\n",
    "table_for_softset.insert(4, \"Duration<100\", 0,False)\n",
    "table_for_softset.insert(5, \"Duration>=100\", 0,False)"
   ]
  },
  {
   "cell_type": "code",
   "execution_count": 58,
   "metadata": {},
   "outputs": [],
   "source": [
    "#tworzenie kolumn i zer na VOTES\n",
    "table_for_softset.insert(6, \"Votes_till_5\", 0,False)\n",
    "table_for_softset.insert(7, \"Votes_between_5_and_7\", 0,False)\n",
    "table_for_softset.insert(8, \"Votes_over_7\", 0,False)"
   ]
  },
  {
   "cell_type": "code",
   "execution_count": 59,
   "metadata": {},
   "outputs": [],
   "source": [
    "baseReady.at[83917,\"year\"]=2019\n"
   ]
  },
  {
   "cell_type": "code",
   "execution_count": 60,
   "metadata": {},
   "outputs": [],
   "source": [
    "#tworzenie kolumn i zer na LANGUAGES\n",
    "table_for_softset.insert(9, \"English\", 0,False)\n",
    "table_for_softset.insert(10, \"AnotherLanguage\", 0,False)"
   ]
  },
  {
   "cell_type": "code",
   "execution_count": 61,
   "metadata": {},
   "outputs": [
    {
     "output_type": "execute_result",
     "data": {
      "text/plain": [
       "\"\\nfor each in range(len(table_for_softset)):\\n    table_for_softset.at[each,'Years_till_1950']=0\\nfor each in range(len(table_for_softset)):\\n    table_for_softset.at[each,'Years_1950-1985']=0\\nfor each in range(len(table_for_softset)):\\n    table_for_softset.at[each,'Years_after_1985']=0\\n\\nfor each in range(len(table_for_softset)):\\n    table_for_softset.at[each,'Duration<100']=0\\nfor each in range(len(table_for_softset)):\\n    table_for_softset.at[each,'Duration>=100']=0\\n\\nfor each in range(len(table_for_softset)):\\n    table_for_softset.at[each,'Votes_till_5']=0\\nfor each in range(len(table_for_softset)):\\n    table_for_softset.at[each,'Votes_between_5_and_7']=0\\nfor each in range(len(table_for_softset)):\\n    table_for_softset.at[each,'Votes_over_7']=0\\n\\nfor each in range(len(table_for_softset)):\\n    table_for_softset.at[each,'English']=0\\nfor each in range(len(table_for_softset)):\\n    table_for_softset.at[each,'AnotherLanguage']=0\\n\""
      ]
     },
     "metadata": {},
     "execution_count": 61
    }
   ],
   "source": [
    "#wykomentowane ale potrzebne w razie awarii wpisywania zer\n",
    "\"\"\"\n",
    "for each in range(len(table_for_softset)):\n",
    "    table_for_softset.at[each,'Years_till_1950']=0\n",
    "for each in range(len(table_for_softset)):\n",
    "    table_for_softset.at[each,'Years_1950-1985']=0\n",
    "for each in range(len(table_for_softset)):\n",
    "    table_for_softset.at[each,'Years_after_1985']=0\n",
    "\n",
    "for each in range(len(table_for_softset)):\n",
    "    table_for_softset.at[each,'Duration<100']=0\n",
    "for each in range(len(table_for_softset)):\n",
    "    table_for_softset.at[each,'Duration>=100']=0\n",
    "\n",
    "for each in range(len(table_for_softset)):\n",
    "    table_for_softset.at[each,'Votes_till_5']=0\n",
    "for each in range(len(table_for_softset)):\n",
    "    table_for_softset.at[each,'Votes_between_5_and_7']=0\n",
    "for each in range(len(table_for_softset)):\n",
    "    table_for_softset.at[each,'Votes_over_7']=0\n",
    "\n",
    "for each in range(len(table_for_softset)):\n",
    "    table_for_softset.at[each,'English']=0\n",
    "for each in range(len(table_for_softset)):\n",
    "    table_for_softset.at[each,'AnotherLanguage']=0\n",
    "\"\"\""
   ]
  },
  {
   "cell_type": "code",
   "execution_count": 62,
   "metadata": {},
   "outputs": [],
   "source": [
    "#wstawianie 1 do Years_till_1950\n",
    "for each in range(len(baseReady)):\n",
    "    if(int(baseReady.at[each,\"year\"])<1950):\n",
    "        table_for_softset.at[each,'Years_till_1950'] = 1\n",
    "\n",
    "#wstawianie 1 do Years_1950-1985\n",
    "for each in range(len(baseReady)):\n",
    "    if(1950<int(baseReady.at[each,\"year\"])):\n",
    "        if(int(baseReady.at[each,\"year\"])<=1985):\n",
    "            table_for_softset.at[each,'Years_1950-1985'] = 1\n",
    "\n",
    "#wstawianie 1 do Years_after_1985\n",
    "for each in range(len(baseReady)):\n",
    "    if(int(baseReady.at[each,\"year\"])>1985):\n",
    "        table_for_softset.at[each,'Years_after_1985'] = 1"
   ]
  },
  {
   "cell_type": "code",
   "execution_count": 63,
   "metadata": {},
   "outputs": [],
   "source": [
    "#wstawianie 1 do Duration<100\n",
    "for each in range(len(baseReady)):\n",
    "    if(int(baseReady.at[each,\"duration\"])<100):\n",
    "        table_for_softset.at[each,'Duration<100'] = 1\n",
    "\n",
    "#wstawianie 1 do Duration>=100\n",
    "for each in range(len(baseReady)):\n",
    "    if(int(baseReady.at[each,\"duration\"])>=100):\n",
    "        table_for_softset.at[each,'Duration>=100'] = 1"
   ]
  },
  {
   "cell_type": "code",
   "execution_count": 64,
   "metadata": {},
   "outputs": [],
   "source": [
    "#wstawianie 1 do Votes_till_5\n",
    "for each in range(len(baseReady)):\n",
    "    if(float(baseReady.at[each,\"avg_vote\"])<5):\n",
    "        table_for_softset.at[each,'Votes_till_5'] = 1\n",
    "\n",
    "#wstawianie 1 do Votes_between_5_and_7\n",
    "for each in range(len(baseReady)):\n",
    "    if(5<=float(baseReady.at[each,\"avg_vote\"]) and float(baseReady.at[each,\"avg_vote\"])<=7):\n",
    "        table_for_softset.at[each,'Votes_between_5_and_7'] = 1\n",
    "\n",
    "#wstawianie 1 do Votes_over_7\n",
    "for each in range(len(baseReady)):\n",
    "    if(float(baseReady.at[each,\"avg_vote\"])>7):\n",
    "        table_for_softset.at[each,'Votes_over_7'] = 1"
   ]
  },
  {
   "cell_type": "code",
   "execution_count": 65,
   "metadata": {},
   "outputs": [],
   "source": [
    "#wstawienie 1 do English i AnotherLanguage\n",
    "for each in range(len(baseReady)):\n",
    "    if(\"English\" in str(baseReady.at[each,\"language\"])):\n",
    "        table_for_softset.at[each,'English'] = 1\n",
    "    else:\n",
    "        table_for_softset.at[each,'AnotherLanguage'] = 1"
   ]
  },
  {
   "cell_type": "code",
   "execution_count": 18,
   "metadata": {},
   "outputs": [
    {
     "output_type": "execute_result",
     "data": {
      "text/plain": [
       "                                title  Years_till_1950  Years_1950-1985  \\\n",
       "85850                         Le lion                0                0   \n",
       "85851  De Beentjes van Sint-Hildegard                0                0   \n",
       "85852       Padmavyuhathile Abhimanyu                0                0   \n",
       "85853               Sokagin Çocuklari                0                0   \n",
       "85854      La vida sense la Sara Amat                0                0   \n",
       "\n",
       "       Years_after_1985  Duration<100  Duration>=100  Votes_till_5  \\\n",
       "85850                 1             1              0             0   \n",
       "85851                 1             0              1             0   \n",
       "85852                 1             0              1             0   \n",
       "85853                 1             1              0             0   \n",
       "85854                 1             1              0             0   \n",
       "\n",
       "       Votes_between_5_and_7  Votes_over_7  English  ...  Thriller Sport  \\\n",
       "85850                      1             0        0  ...         0     0   \n",
       "85851                      0             1        0  ...         0     0   \n",
       "85852                      0             1        0  ...         0     0   \n",
       "85853                      1             0        0  ...         0     0   \n",
       "85854                      1             0        0  ...         0     0   \n",
       "\n",
       "      Animation Musical Music Film-Noir Adult Documentary Reality-TV News  \n",
       "85850         0       0     0         0     0           0          0    0  \n",
       "85851         0       0     0         0     0           0          0    0  \n",
       "85852         0       0     0         0     0           0          0    0  \n",
       "85853         0       0     0         0     0           0          0    0  \n",
       "85854         0       0     0         0     0           0          0    0  \n",
       "\n",
       "[5 rows x 36 columns]"
      ],
      "text/html": "<div>\n<style scoped>\n    .dataframe tbody tr th:only-of-type {\n        vertical-align: middle;\n    }\n\n    .dataframe tbody tr th {\n        vertical-align: top;\n    }\n\n    .dataframe thead th {\n        text-align: right;\n    }\n</style>\n<table border=\"1\" class=\"dataframe\">\n  <thead>\n    <tr style=\"text-align: right;\">\n      <th></th>\n      <th>title</th>\n      <th>Years_till_1950</th>\n      <th>Years_1950-1985</th>\n      <th>Years_after_1985</th>\n      <th>Duration&lt;100</th>\n      <th>Duration&gt;=100</th>\n      <th>Votes_till_5</th>\n      <th>Votes_between_5_and_7</th>\n      <th>Votes_over_7</th>\n      <th>English</th>\n      <th>...</th>\n      <th>Thriller</th>\n      <th>Sport</th>\n      <th>Animation</th>\n      <th>Musical</th>\n      <th>Music</th>\n      <th>Film-Noir</th>\n      <th>Adult</th>\n      <th>Documentary</th>\n      <th>Reality-TV</th>\n      <th>News</th>\n    </tr>\n  </thead>\n  <tbody>\n    <tr>\n      <th>85850</th>\n      <td>Le lion</td>\n      <td>0</td>\n      <td>0</td>\n      <td>1</td>\n      <td>1</td>\n      <td>0</td>\n      <td>0</td>\n      <td>1</td>\n      <td>0</td>\n      <td>0</td>\n      <td>...</td>\n      <td>0</td>\n      <td>0</td>\n      <td>0</td>\n      <td>0</td>\n      <td>0</td>\n      <td>0</td>\n      <td>0</td>\n      <td>0</td>\n      <td>0</td>\n      <td>0</td>\n    </tr>\n    <tr>\n      <th>85851</th>\n      <td>De Beentjes van Sint-Hildegard</td>\n      <td>0</td>\n      <td>0</td>\n      <td>1</td>\n      <td>0</td>\n      <td>1</td>\n      <td>0</td>\n      <td>0</td>\n      <td>1</td>\n      <td>0</td>\n      <td>...</td>\n      <td>0</td>\n      <td>0</td>\n      <td>0</td>\n      <td>0</td>\n      <td>0</td>\n      <td>0</td>\n      <td>0</td>\n      <td>0</td>\n      <td>0</td>\n      <td>0</td>\n    </tr>\n    <tr>\n      <th>85852</th>\n      <td>Padmavyuhathile Abhimanyu</td>\n      <td>0</td>\n      <td>0</td>\n      <td>1</td>\n      <td>0</td>\n      <td>1</td>\n      <td>0</td>\n      <td>0</td>\n      <td>1</td>\n      <td>0</td>\n      <td>...</td>\n      <td>0</td>\n      <td>0</td>\n      <td>0</td>\n      <td>0</td>\n      <td>0</td>\n      <td>0</td>\n      <td>0</td>\n      <td>0</td>\n      <td>0</td>\n      <td>0</td>\n    </tr>\n    <tr>\n      <th>85853</th>\n      <td>Sokagin Çocuklari</td>\n      <td>0</td>\n      <td>0</td>\n      <td>1</td>\n      <td>1</td>\n      <td>0</td>\n      <td>0</td>\n      <td>1</td>\n      <td>0</td>\n      <td>0</td>\n      <td>...</td>\n      <td>0</td>\n      <td>0</td>\n      <td>0</td>\n      <td>0</td>\n      <td>0</td>\n      <td>0</td>\n      <td>0</td>\n      <td>0</td>\n      <td>0</td>\n      <td>0</td>\n    </tr>\n    <tr>\n      <th>85854</th>\n      <td>La vida sense la Sara Amat</td>\n      <td>0</td>\n      <td>0</td>\n      <td>1</td>\n      <td>1</td>\n      <td>0</td>\n      <td>0</td>\n      <td>1</td>\n      <td>0</td>\n      <td>0</td>\n      <td>...</td>\n      <td>0</td>\n      <td>0</td>\n      <td>0</td>\n      <td>0</td>\n      <td>0</td>\n      <td>0</td>\n      <td>0</td>\n      <td>0</td>\n      <td>0</td>\n      <td>0</td>\n    </tr>\n  </tbody>\n</table>\n<p>5 rows × 36 columns</p>\n</div>"
     },
     "metadata": {},
     "execution_count": 18
    }
   ],
   "source": [
    "table_for_softset.tail()"
   ]
  },
  {
   "cell_type": "code",
   "execution_count": 66,
   "metadata": {},
   "outputs": [],
   "source": [
    "table_for_softset.to_csv('final_base.csv',index=False)"
   ]
  },
  {
   "cell_type": "code",
   "execution_count": 34,
   "metadata": {},
   "outputs": [],
   "source": [
    "finale=pd.read_csv(\"final_base.csv\")\n",
    "finale = finale.drop(\"imdb_title_id\", axis=1)"
   ]
  },
  {
   "cell_type": "code",
   "execution_count": 35,
   "metadata": {},
   "outputs": [],
   "source": [
    "class SoftSet:\n",
    "    @staticmethod\n",
    "    def classify(sample, X, Y):\n",
    "\n",
    "        values = {}\n",
    "        for j in range (0, len(X), 1):\n",
    "            values[X[j]] = 0\n",
    "    \n",
    "        for i in range(len(Y)):\n",
    "            for key in Y.columns:\n",
    "                values[X[i]] += Y.iloc[i][key] * sample[key]\n",
    "\n",
    "        values = sorted(values.items(), key = lambda kv:(kv[1], kv[0]),reverse= True)\n",
    "\n",
    "        result = []\n",
    "        for i in range(5):\n",
    "            result.append(values[i][0])\n",
    "            #print(values[i][0])\n",
    "\n",
    "        return result\n"
   ]
  },
  {
   "cell_type": "code",
   "execution_count": 44,
   "metadata": {
    "tags": []
   },
   "outputs": [],
   "source": [
    "id, result, titles = [], [], []\n",
    "\n",
    "#zbiór X <- id\n",
    "for i in range(len(dane)):\n",
    "    id.append(dane.iloc[i]['imdb_title_id'])\n",
    "\n",
    "#zbiór Y <- finale\n",
    "\n",
    "#sample <- preferences\n",
    "preferences = {\n",
    "'Years_till_1950':0,'Years_1950-1985':0,'Years_after_1985':0,'Duration<100':0,'Duration>=100':0,\n",
    "'Votes_till_5':0,'Votes_between_5_and_7':0,'Votes_over_7':0,'English':0,'AnotherLanguage':0,\n",
    "'Romance':0,'Biography':0,'Crime':0,'Drama':0,'History':0,'Adventure':0,'Fantasy':0,'War':0,\n",
    "'Mystery':0,'Horror':0,'Western':0,'Comedy':0,'Family':0,'Action':0,'Sci-Fi':0,'Thriller':0,\n",
    "'Sport':0,'Animation':0,'Musical':0,'Music':0,'Film-Noir':0,'Adult':0,'Documentary':0,'Reality-TV':0,'News':0\n",
    "}\n",
    "\n",
    "\n",
    "\n"
   ]
  },
  {
   "cell_type": "code",
   "execution_count": 45,
   "metadata": {},
   "outputs": [],
   "source": [
    "#POBIERANIE ODPOWIEDZI\n",
    "\n",
    "#1\n",
    "a = input(\"Do you want the characters to speak English? Yes/No/Neutrally\")\n",
    "answear = a.capitalize()\n",
    "while(answear != \"Yes\" and answear != \"No\" and answear != \"Neutrally\"):\n",
    "    answear = input(\"Incorrect data. Try again!\")\n",
    "    answear = answear.capitalize()\n",
    "\n",
    "if answear == \"Yes\":\n",
    "\tpreferences['English'] = 1\n",
    "elif answear == \"No\":\n",
    "\tpreferences['AnotherLanguage'] = 1\n",
    "\n",
    "\n",
    "\n",
    "\n",
    "#2\n",
    "a = input(\"Do you want the movie to last longer than 100 minutes? Yes/No/Neutrally\")\n",
    "answear = a.capitalize()\n",
    "while(answear != \"Yes\" and answear != \"No\" and answear != \"Neutrally\"):\n",
    "    answear = input(\"Incorrect data. Try again!\")\n",
    "    answear = answear.capitalize()\n",
    "\n",
    "if answear == \"Yes\":\n",
    "\tpreferences['Duration>=100'] = 1\n",
    "elif answear == \"No\":\n",
    "\tpreferences['Duration<100'] = 1\n",
    "\n",
    "\n",
    "\n",
    "\n",
    "\n",
    "#3\n",
    "answear = input(\"\"\"The movies are usually rated on a scale from 1 to 10. Does other people's opinion matter? 1/2/3/4 \\n\n",
    "1. No, movie can have less than 5 points \\n\n",
    "2. Kinda - 5 up to 7 points is fine with me \\n\n",
    "3. Give me only the best ones - over 7 points \\n\n",
    "4. I prefer to do my own judgement, so that's irrelevant\"\"\")\n",
    "\n",
    "while(answear not in ['1','2','3','4']):\n",
    "    answear = input(\"Incorrect data. Try again!\")\n",
    "\n",
    "if answear ==  '1':\n",
    "    preferences['Votes_till_5'] = 1\n",
    "elif answear ==  '2':\n",
    "    preferences['Votes_between_5_and_7'] = 1\n",
    "elif answear ==  '3':\n",
    "    preferences['Votes_over_7'] = 1\n",
    "\n",
    "\n",
    "\n",
    "\n",
    "#4\n",
    "answear = input(\"\"\"When should the movie have been shot? 1/2/3/4 \\n\n",
    "1. Before 1950 \\n\n",
    "2. Between 1950 and 1985 \\n\n",
    "3. After 1985 \\n\n",
    "4. I have no preferences\"\"\")\n",
    "\n",
    "while(answear not in ['1','2','3','4']):\n",
    "    answear = input(\"Incorrect data. Try again!\")\n",
    "\n",
    "if answear ==  '1':\n",
    "    preferences['Years_till_1950'] = 1\n",
    "elif answear ==  '2':\n",
    "    preferences['Years_1950-1985'] = 1\n",
    "elif answear ==  '3':\n",
    "    preferences['Years_after_1985'] = 1\n",
    "\n",
    "\n",
    "\n",
    "\n",
    "#5\n",
    "answear = input(\"\"\"Select your favourite genres from the list. Write them down seperated by spaces and press 'Enter'. (If you don't have preferences type 'Neutrally') : \\n \n",
    " Romance \n",
    " Biography \n",
    " Crime\n",
    " Drama\n",
    " History\n",
    " Adventure\n",
    " Fantasy\n",
    " War\n",
    " Mystery\n",
    " Horror\n",
    " Western\n",
    " Comedy\n",
    " Family\n",
    " Action\n",
    " Science-Fiction\n",
    " Thriller\n",
    " Sport\n",
    " Animation\n",
    " Musical\n",
    " Music\n",
    " Film-Noir\n",
    " Adult\n",
    " Documentary\n",
    " Reality-TV\n",
    " News\n",
    " \"\"\")\n",
    "\n",
    "\n"
   ]
  },
  {
   "cell_type": "code",
   "execution_count": 46,
   "metadata": {},
   "outputs": [],
   "source": [
    " if answear.capitalize() !=  'Neutrally' and answear != \"\":\n",
    "    movie_genres = answear.split(\" \")\n",
    "    for i in movie_genres:\n",
    "        i = i.capitalize()\n",
    "        if i in preferences:\n",
    "            preferences[i] = 1"
   ]
  },
  {
   "cell_type": "code",
   "execution_count": 47,
   "metadata": {},
   "outputs": [
    {
     "output_type": "stream",
     "name": "stdout",
     "text": [
      "{'Years_till_1950': 1, 'Years_1950-1985': 0, 'Years_after_1985': 0, 'Duration<100': 1, 'Duration>=100': 0, 'Votes_till_5': 0, 'Votes_between_5_and_7': 1, 'Votes_over_7': 0, 'English': 1, 'AnotherLanguage': 0, 'Romance': 0, 'Biography': 0, 'Crime': 0, 'Drama': 1, 'History': 0, 'Adventure': 0, 'Fantasy': 0, 'War': 0, 'Mystery': 0, 'Horror': 1, 'Western': 0, 'Comedy': 0, 'Family': 0, 'Action': 0, 'Sci-Fi': 0, 'Thriller': 0, 'Sport': 0, 'Animation': 0, 'Musical': 0, 'Music': 0, 'Film-Noir': 0, 'Adult': 0, 'Documentary': 0, 'Reality-TV': 0, 'News': 0}\n"
     ]
    }
   ],
   "source": [
    "print(preferences)"
   ]
  },
  {
   "cell_type": "code",
   "execution_count": 49,
   "metadata": {},
   "outputs": [
    {
     "output_type": "stream",
     "name": "stdout",
     "text": [
      "We offer you the following movies: \n \n\nTitle: Manicomio\nOryginal title: Bedlam\nYear: 1946\nGenre: Drama, Horror, Thriller\nDuration: 79\nCountry: USA\nLanguage: English\nDirector: Mark Robson\nWriterWilliam Hogarth, Val Lewton\nProduction company: RKO Radio Pictures\nActors: Boris Karloff, Anna Lee, Billy House, Richard Fraser, Glen Vernon, Ian Wolfe, Jason Robards Sr., Leyland Hodgson, Joan Newton, Elizabeth Russell\nDescription: Nell Bowen, the spirited protege of rich Lord Mortimer, becomes interested in the conditions of notorious St. Mary's of Bethlehem Asylum (Bedlam). Encouraged by the Quaker Hannay, she tries...\n\n \n\nTitle: The Spider Woman Strikes Back\nOryginal title: The Spider Woman Strikes Back\nYear: 1946\nGenre: Drama, Horror, Thriller\nDuration: 59\nCountry: USA\nLanguage: English\nDirector: Arthur Lubin\nWriterEric Taylor\nProduction company: Universal Pictures\nActors: Gale Sondergaard, Brenda Joyce, Kirby Grant, Milburn Stone, Rondo Hatton, Hobart Cavanaugh, Ruth Robinson, Adda Gleason, Lois Austin, Tom Daly, Eula Guy, Norman Leavitt, Guy Beach, Frank O'Connor, Jack Perrin\nDescription: A young girl goes to work as a live-in caretaker for a spooky old woman. She doesn't know that every night, the woman drains some blood from her to feed her strange plant.\n\n \n\nTitle: Valley of the Zombies\nOryginal title: Valley of the Zombies\nYear: 1946\nGenre: Action, Drama, Horror\nDuration: 56\nCountry: USA\nLanguage: English\nDirector: Philip Ford\nWriterDorrell McGowan, Stuart E. McGowan\nProduction company: Republic Pictures (I)\nActors: Robert Livingston, Lorna Gray, Ian Keith, Thomas E. Jackson, Charles Trowbridge, Earle Hodgins, LeRoy Mason, William Haade, Wilton Graff, Charles Cane, Russ Clark, Chuck Hamilton, Wheaton Chambers\nDescription: Dr. Maynard (Charles Trowbridge') tells Dr. Terry Evans (\n\n \n\nTitle: Daughter of Darkness\nOryginal title: Daughter of Darkness\nYear: 1948\nGenre: Crime, Drama, Horror\nDuration: 91\nCountry: UK\nLanguage: English\nDirector: Lance Comfort\nWriterMax Catto, Max Catto\nProduction company: A.R. Shipman Productions\nActors: Anne Crawford, Maxwell Reed, George Thorpe, Barry Morse, Liam Redmond, Cyril Smith, Honor Blackman, Denis Goacher, Grant Tyler, Norman Shelley, George Merritt, Ann Clery, Arthur Hambling, David Greene, Leslie Armstrong\nDescription: Emily, a pretty young Irish girl, gets a job on an English farm owned by the Tallent family. The local men take to her but the women don't, objecting to her flirtatious nature with their ...\n\n \n\nTitle: The Greed of William Hart\nOryginal title: The Greed of William Hart\nYear: 1948\nGenre: Drama, Horror\nDuration: 80\nCountry: UK\nLanguage: English\nDirector: Oswald Mitchell\nWriterJohn Gilling\nProduction company: Ambassador . . . Bushey Productions\nActors: Tod Slaughter, Henry Oscar, Jenny Lynn, Winifred Melville, Aubrey Woods, Patrick Addison, Arnold Bell, Mary Love, Ann Trego, Edward Malin, Hubert Woodward, Dennis Wyndham\nDescription: A story of body snatchers in Edinburgh, based on Burke and Hare.\n\n \n\n"
     ]
    }
   ],
   "source": [
    "result = SoftSet.classify(preferences,id,finale)\n",
    "#import sys\n",
    "titles = []\n",
    "\n",
    "for i in range(len(dane)):\n",
    "    if dane.iloc[i]['imdb_title_id'] in str(result):\n",
    "        titles.append(baseReady.iloc[i])\n",
    "\n",
    "info = [\"Title: \", \"Oryginal title: \", \"Year: \", \"Genre: \", \"Duration: \", \"Country: \", \"Language: \", \"Director: \", \"Writer\", \"Production company: \", \"Actors: \", \"Description: \", \"Average vote: \"]    \n",
    "\n",
    "print(\"We offer you the following movies: \\n \\n\")\n",
    "for i in range(5):\n",
    "    for j in range(1,len(info)):\n",
    "        print(info[j-1] + str(titles[i][j]))\n",
    "    print(\"\\n \\n\")"
   ]
  },
  {
   "cell_type": "code",
   "execution_count": null,
   "metadata": {},
   "outputs": [],
   "source": []
  }
 ]
}