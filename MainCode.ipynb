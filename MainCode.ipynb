{
 "metadata": {
  "language_info": {
   "codemirror_mode": {
    "name": "ipython",
    "version": 3
   },
   "file_extension": ".py",
   "mimetype": "text/x-python",
   "name": "python",
   "nbconvert_exporter": "python",
   "pygments_lexer": "ipython3",
   "version": "3.9.0"
  },
  "orig_nbformat": 2,
  "kernelspec": {
   "name": "python390jvsc74a57bd0be854af5952142a4b253fd59e9a30ea88985ea8fe5ca1108e33df76f13f66465",
   "display_name": "Python 3.9.0 64-bit"
  },
  "metadata": {
   "interpreter": {
    "hash": "be854af5952142a4b253fd59e9a30ea88985ea8fe5ca1108e33df76f13f66465"
   }
  }
 },
 "nbformat": 4,
 "nbformat_minor": 2,
 "cells": [
  {
   "cell_type": "code",
   "execution_count": 75,
   "metadata": {},
   "outputs": [],
   "source": [
    "import numpy as np\n",
    "import pandas as pd\n",
    "import seaborn as sns \n",
    "import random\n",
    "sns.set_palette('husl')\n"
   ]
  },
  {
   "cell_type": "code",
   "execution_count": 76,
   "metadata": {},
   "outputs": [],
   "source": [
    "dane = pd.read_csv(\"IMDb movies.csv\")"
   ]
  },
  {
   "cell_type": "code",
   "execution_count": 77,
   "metadata": {},
   "outputs": [],
   "source": [
    "baseReady = pd.read_csv(\"baseReady.csv\")"
   ]
  },
  {
   "cell_type": "code",
   "execution_count": 78,
   "metadata": {},
   "outputs": [],
   "source": [
    "finale=pd.read_csv(\"final_base.csv\")\n",
    "finale = finale.drop(\"imdb_title_id\", axis=1)"
   ]
  },
  {
   "cell_type": "code",
   "execution_count": 79,
   "metadata": {},
   "outputs": [],
   "source": [
    "class DataProcessing:\n",
    "    @staticmethod\n",
    "    def shuffle(x):\n",
    "        for i in range(len(x)-1,0,-1):\n",
    "            j=random.randint(0,i)\n",
    "            x.iloc[i], x.iloc[j] = x.iloc[j], x.iloc[i]\n",
    "        return x"
   ]
  },
  {
   "cell_type": "code",
   "execution_count": 80,
   "metadata": {},
   "outputs": [],
   "source": [
    "#finale = DataProcessing.shuffle(finale)"
   ]
  },
  {
   "cell_type": "code",
   "execution_count": 81,
   "metadata": {},
   "outputs": [],
   "source": [
    "class SoftSet:\n",
    "    @staticmethod\n",
    "    def classify(sample, X, Y):\n",
    "\n",
    "        values = {}\n",
    "        for j in range (0, len(X), 1):\n",
    "            values[X[j]] = 0\n",
    "    \n",
    "        for i in range(len(Y)):\n",
    "            for key in Y.columns:\n",
    "                values[X[i]] += Y.iloc[i][key] * sample[key]\n",
    "\n",
    "        values = sorted(values.items(), key = lambda kv:(kv[1], kv[0]),reverse= True)\n",
    "\n",
    "        result = []\n",
    "        for i in range(5):\n",
    "            result.append(values[i][0])\n",
    "            #print(values[i][0])\n",
    "\n",
    "        return result\n"
   ]
  },
  {
   "cell_type": "code",
   "execution_count": 82,
   "metadata": {
    "tags": []
   },
   "outputs": [],
   "source": [
    "id, result, titles = [], [], []\n",
    "\n",
    "#zbiór X <- id\n",
    "for i in range(len(dane)):\n",
    "    id.append(dane.iloc[i]['imdb_title_id'])\n",
    "\n",
    "#zbiór Y <- finale\n",
    "\n",
    "#sample <- preferences\n",
    "preferences = {\n",
    "'Years_till_1950':0,'Years_1950-1985':0,'Years_after_1985':0,'Duration<100':0,'Duration>=100':0,\n",
    "'Votes_till_5':0,'Votes_between_5_and_7':0,'Votes_over_7':0,'English':0,'AnotherLanguage':0,\n",
    "'Romance':0,'Biography':0,'Crime':0,'Drama':0,'History':0,'Adventure':0,'Fantasy':0,'War':0,\n",
    "'Mystery':0,'Horror':0,'Western':0,'Comedy':0,'Family':0,'Action':0,'Sci-Fi':0,'Thriller':0,\n",
    "'Sport':0,'Animation':0,'Musical':0,'Music':0,'Film-Noir':0,'Adult':0,'Documentary':0,'Reality-TV':0,'News':0\n",
    "}\n",
    "\n",
    "\n",
    "\n"
   ]
  },
  {
   "cell_type": "code",
   "execution_count": 83,
   "metadata": {},
   "outputs": [],
   "source": [
    "#POBIERANIE ODPOWIEDZI\n",
    "\n",
    "#1\n",
    "a = input(\"Do you want the characters to speak English? Yes/No/Neutrally\")\n",
    "answear = a.capitalize()\n",
    "while(answear != \"Yes\" and answear != \"No\" and answear != \"Neutrally\"):\n",
    "    answear = input(\"Incorrect data. Try again!\")\n",
    "    answear = answear.capitalize()\n",
    "\n",
    "if answear == \"Yes\":\n",
    "\tpreferences['English'] = 1\n",
    "elif answear == \"No\":\n",
    "\tpreferences['AnotherLanguage'] = 1\n",
    "\n",
    "\n",
    "\n",
    "\n",
    "#2\n",
    "a = input(\"Do you want the movie to last longer than 100 minutes? Yes/No/Neutrally\")\n",
    "answear = a.capitalize()\n",
    "while(answear != \"Yes\" and answear != \"No\" and answear != \"Neutrally\"):\n",
    "    answear = input(\"Incorrect data. Try again!\")\n",
    "    answear = answear.capitalize()\n",
    "\n",
    "if answear == \"Yes\":\n",
    "\tpreferences['Duration>=100'] = 1\n",
    "elif answear == \"No\":\n",
    "\tpreferences['Duration<100'] = 1\n",
    "\n",
    "\n",
    "\n",
    "\n",
    "\n",
    "#3\n",
    "answear = input(\"\"\"The movies are usually rated on a scale from 1 to 10. Does other people's opinion matter? 1/2/3/4 \\n\n",
    "1. No, movie can have less than 5 points \\n\n",
    "2. Kinda - 5 up to 7 points is fine with me \\n\n",
    "3. Give me only the best ones - over 7 points \\n\n",
    "4. I prefer to do my own judgement, so that's irrelevant\"\"\")\n",
    "\n",
    "while(answear not in ['1','2','3','4']):\n",
    "    answear = input(\"Incorrect data. Try again!\")\n",
    "\n",
    "if answear ==  '1':\n",
    "    preferences['Votes_till_5'] = 1\n",
    "elif answear ==  '2':\n",
    "    preferences['Votes_between_5_and_7'] = 1\n",
    "elif answear ==  '3':\n",
    "    preferences['Votes_over_7'] = 1\n",
    "\n",
    "\n",
    "\n",
    "\n",
    "#4\n",
    "answear = input(\"\"\"Which era should be the movie from? 1/2/3/4 \\n\n",
    "1. Before 1950 \\n\n",
    "2. Between 1950 and 1985 \\n\n",
    "3. After 1985 \\n\n",
    "4. I have no preferences\"\"\")\n",
    "\n",
    "while(answear not in ['1','2','3','4']):\n",
    "    answear = input(\"Incorrect data. Try again!\")\n",
    "\n",
    "if answear ==  '1':\n",
    "    preferences['Years_till_1950'] = 1\n",
    "elif answear ==  '2':\n",
    "    preferences['Years_1950-1985'] = 1\n",
    "elif answear ==  '3':\n",
    "    preferences['Years_after_1985'] = 1\n",
    "\n",
    "\n",
    "\n",
    "\n",
    "#5\n",
    "answear = input(\"\"\"Select your favourite genres from the list. Write them down seperated by spaces and press 'Enter'. (If you don't have preferences type 'Neutrally') : \\n \n",
    " Romance \n",
    " Biography \n",
    " Crime\n",
    " Drama\n",
    " History\n",
    " Adventure\n",
    " Fantasy\n",
    " War\n",
    " Mystery\n",
    " Horror\n",
    " Western\n",
    " Comedy\n",
    " Family\n",
    " Action\n",
    " Science-Fiction\n",
    " Thriller\n",
    " Sport\n",
    " Animation\n",
    " Musical\n",
    " Music\n",
    " Film-Noir\n",
    " Adult\n",
    " Documentary\n",
    " Reality-TV\n",
    " News\n",
    " \"\"\")\n",
    "\n",
    "\n"
   ]
  },
  {
   "cell_type": "code",
   "execution_count": 84,
   "metadata": {},
   "outputs": [],
   "source": [
    " if answear.capitalize() !=  'Neutrally' and answear != \"\":\n",
    "    movie_genres = answear.split(\" \")\n",
    "    for i in movie_genres:\n",
    "        i = i.capitalize()\n",
    "        if i in preferences:\n",
    "            preferences[i] = 1"
   ]
  },
  {
   "cell_type": "code",
   "execution_count": 85,
   "metadata": {},
   "outputs": [
    {
     "output_type": "stream",
     "name": "stdout",
     "text": [
      "{'Years_till_1950': 0, 'Years_1950-1985': 0, 'Years_after_1985': 1, 'Duration<100': 0, 'Duration>=100': 1, 'Votes_till_5': 0, 'Votes_between_5_and_7': 0, 'Votes_over_7': 1, 'English': 1, 'AnotherLanguage': 0, 'Romance': 0, 'Biography': 0, 'Crime': 1, 'Drama': 0, 'History': 0, 'Adventure': 0, 'Fantasy': 1, 'War': 0, 'Mystery': 0, 'Horror': 0, 'Western': 0, 'Comedy': 0, 'Family': 0, 'Action': 1, 'Sci-Fi': 0, 'Thriller': 0, 'Sport': 0, 'Animation': 0, 'Musical': 0, 'Music': 0, 'Film-Noir': 0, 'Adult': 0, 'Documentary': 0, 'Reality-TV': 0, 'News': 0}\n"
     ]
    }
   ],
   "source": [
    "print(preferences)"
   ]
  },
  {
   "cell_type": "code",
   "execution_count": 86,
   "metadata": {},
   "outputs": [
    {
     "output_type": "stream",
     "name": "stdout",
     "text": [
      "We offer you the following movies: \n \n\nTitle: Cell Block 99: Nessuno può fermarmi\nOryginal title: Brawl in Cell Block 99\nYear: 2017\nGenre: Action, Crime, Drama\nDuration: 132\nCountry: USA\nLanguage: English\nDirector: S. Craig Zahler\nWriterS. Craig Zahler\nProduction company: Assemble Media\nActors: Vince Vaughn, Jennifer Carpenter, Don Johnson, Udo Kier, Marc Blucas, Dion Mucciacito, Geno Segers, Victor Almanzar, Tom Guiry, Willie C. Carpenter, Mustafa Shakir, Fred Melamed, Pooja Kumar, Clark Johnson, Devon Windsor\nDescription: A former boxer-turned-drug runner lands in a prison battleground after a deal gets deadly.\n\n \n\nTitle: John Wick 3 - Parabellum\nOryginal title: John Wick: Chapter 3 - Parabellum\nYear: 2019\nGenre: Action, Crime, Thriller\nDuration: 130\nCountry: USA\nLanguage: English, Russian, Japanese, Indonesian, Mandarin, Italian, Arabic, Latin\nDirector: Chad Stahelski\nWriterDerek Kolstad, Shay Hatten\nProduction company: Lionsgate\nActors: Keanu Reeves, Halle Berry, Ian McShane, Laurence Fishburne, Mark Dacascos, Asia Kate Dillon, Lance Reddick, Tobias Segal, Anjelica Huston, Saïd Taghmaoui, Jerome Flynn, Randall Duk Kim, Margaret Daly, Robin Lord Taylor, Susan Blommaert\nDescription: John Wick is on the run after killing a member of the international assassins' guild, and with a $14 million price tag on his head, he is the target of hit men and women everywhere.\n\n \n\nTitle: The Gentlemen\nOryginal title: The Gentlemen\nYear: 2019\nGenre: Action, Comedy, Crime\nDuration: 113\nCountry: UK, USA\nLanguage: English\nDirector: Guy Ritchie\nWriterGuy Ritchie, Ivan Atkinson\nProduction company: STX Films\nActors: Matthew McConaughey, Charlie Hunnam, Michelle Dockery, Jeremy Strong, Lyne Renée, Colin Farrell, Henry Golding, Tom Wu, Chidi Ajufo, Hugh Grant, Simon R. Barker, Eddie Marsan, Jason Wong, John Dagleish, Jordan Long\nDescription: An American expat tries to sell off his highly profitable marijuana empire in London, triggering plots, schemes, bribery and blackmail in an attempt to steal his domain out from under him.\n\n \n\nTitle: Michael Jackson: Smooth Criminal (II)\nOryginal title: Michael Jackson: Smooth Criminal (II)\nYear: 1988\nGenre: Action, Crime, Fantasy\nDuration: 48\nCountry: USA\nLanguage: English\nDirector: Colin Chilvers\nWriternan\nProduction company: Associated FilmGroup (AFG)\nActors: Brandon Quintin Adams, Michael Jackson, Sean Lennon, Kelley Parker, Joe Pesci\nDescription: Michael tried to protect three children as he is chased by Mr Big and his army across a city. Excerpt from Moonwalker 1988.\n\n \n\nTitle: El Camino: Il film di Breaking Bad\nOryginal title: El Camino: A Breaking Bad Movie\nYear: 2019\nGenre: Action, Crime, Drama\nDuration: 122\nCountry: USA\nLanguage: English\nDirector: Vince Gilligan\nWriterVince Gilligan, Vince Gilligan\nProduction company: Netflix\nActors: Aaron Paul, Jonathan Banks, Matt Jones, Charles Baker, Todd Terry, Julie Pearl, Gregory Steven Soliz, Larry Hankin, Jesse Plemons, Tom Bower, Gloria Sandoval, Tess Harper, Michael Bofshever, Danielle Todesco, Scott MacArthur\nDescription: El Camino: A Breaking Bad Movie follows fugitive Jesse Pinkman as he runs from his captors, the law and his past.\n\n \n\n"
     ]
    }
   ],
   "source": [
    "result = SoftSet.classify(preferences,id,finale)\n",
    "#import sys\n",
    "titles = []\n",
    "\n",
    "for i in range(len(dane)):\n",
    "    if dane.iloc[i]['imdb_title_id'] in str(result):\n",
    "        titles.append(baseReady.iloc[i])\n",
    "\n",
    "info = [\"Title: \", \"Oryginal title: \", \"Year: \", \"Genre: \", \"Duration: \", \"Country: \", \"Language: \", \"Director: \", \"Writer\", \"Production company: \", \"Actors: \", \"Description: \", \"Average vote: \"]    \n",
    "\n",
    "print(\"We offer you the following movies: \\n \\n\")\n",
    "for i in range(5):\n",
    "    for j in range(1,len(info)):\n",
    "        print(info[j-1] + str(titles[i][j]))\n",
    "    print(\"\\n \\n\")"
   ]
  },
  {
   "cell_type": "code",
   "execution_count": null,
   "metadata": {},
   "outputs": [],
   "source": []
  }
 ]
}