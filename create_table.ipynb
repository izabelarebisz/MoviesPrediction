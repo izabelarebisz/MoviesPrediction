{
 "metadata": {
  "language_info": {
   "codemirror_mode": {
    "name": "ipython",
    "version": 3
   },
   "file_extension": ".py",
   "mimetype": "text/x-python",
   "name": "python",
   "nbconvert_exporter": "python",
   "pygments_lexer": "ipython3",
   "version": "3.9.0"
  },
  "orig_nbformat": 2,
  "kernelspec": {
   "name": "python390jvsc74a57bd0be854af5952142a4b253fd59e9a30ea88985ea8fe5ca1108e33df76f13f66465",
   "display_name": "Python 3.9.0 64-bit"
  },
  "metadata": {
   "interpreter": {
    "hash": "be854af5952142a4b253fd59e9a30ea88985ea8fe5ca1108e33df76f13f66465"
   }
  }
 },
 "nbformat": 4,
 "nbformat_minor": 2,
 "cells": [
  {
   "cell_type": "code",
   "execution_count": 1,
   "metadata": {},
   "outputs": [],
   "source": [
    "import numpy as np\n",
    "import pandas as pd\n",
    "import seaborn as sns \n",
    "sns.set_palette('husl')"
   ]
  },
  {
   "cell_type": "code",
   "execution_count": 2,
   "metadata": {},
   "outputs": [
    {
     "output_type": "stream",
     "name": "stderr",
     "text": [
      "C:\\Users\\Natalie\\AppData\\Roaming\\Python\\Python39\\site-packages\\IPython\\core\\interactiveshell.py:3165: DtypeWarning: Columns (3) have mixed types.Specify dtype option on import or set low_memory=False.\n  has_raised = await self.run_ast_nodes(code_ast.body, cell_name,\n"
     ]
    }
   ],
   "source": [
    "dane = pd.read_csv(\"IMDb movies.csv\")"
   ]
  },
  {
   "cell_type": "code",
   "execution_count": 3,
   "metadata": {},
   "outputs": [],
   "source": [
    "#czyszczenie tabeli\n",
    "k = dane.drop(\"date_published\", axis=1)\n",
    "k1 = k.drop(\"votes\", axis=1)\n",
    "k2 = k1.drop(\"budget\", axis=1)\n",
    "k3 = k2.drop(\"usa_gross_income\", axis=1)\n",
    "k4 = k3.drop(\"worlwide_gross_income\", axis=1)\n",
    "k5 = k4.drop(\"metascore\", axis = 1)\n",
    "k6 = k5.drop(\"reviews_from_users\", axis=1)\n",
    "baseReady = k6.drop(\"reviews_from_critics\", axis=1)\n",
    "\n",
    "baseReady.to_csv(\"baseReady.csv\",index = False)"
   ]
  },
  {
   "cell_type": "code",
   "execution_count": null,
   "metadata": {},
   "outputs": [],
   "source": [
    "# stworzenie bazy z gatunkami i wypełnenie jej zerami\n",
    "df_genres = pd.DataFrame()\n",
    "for genre in range(len(baseReady)):\n",
    "    value = baseReady.iloc[genre]['genre']\n",
    "    value = value.split(',')\n",
    "    for one_genre in range(len(value)):\n",
    "        value[one_genre] = value[one_genre].lstrip()\n",
    "        value[one_genre] = value[one_genre].rstrip()\n",
    "        df_genres[value[one_genre]]=0\n",
    "\n",
    "df_genres = df_genres.drop_duplicates()\n",
    "\n",
    "idtitles = pd.DataFrame(data =baseReady.iloc[:]['imdb_title_id'],columns=[\"imdb_title_id\"])\n",
    "\n",
    "table_for_softset = pd.concat([id, df_genres], ignore_index=True)\n",
    "\n",
    "nan_value = float(\"NaN\")\n",
    "table_for_softset = table_for_softset.fillna('0')\n",
    "table_for_softset.head()"
   ]
  },
  {
   "cell_type": "code",
   "execution_count": null,
   "metadata": {},
   "outputs": [],
   "source": [
    "# wstawienie jedynek w odpowiednie miejsca\n",
    "for title in range(len(table_for_softset)):\n",
    "\n",
    "    for genres in range(1,len(table_for_softset.columns)):\n",
    "        genre = baseReady.iloc[title]['genre']\n",
    "        genre = genre.split(',')\n",
    "        for one_genre in range(len(genre)):\n",
    "            genre[one_genre] = genre[one_genre].lstrip()\n",
    "            genre[one_genre] = genre[one_genre].rstrip()\n",
    "            if genre[one_genre] == table_for_softset.columns[genres]:\n",
    "                table_for_softset.at[title,genre[one_genre]] = 1\n",
    "\n",
    "#table_for_softset.to_csv('final_base.csv',index=False)\n"
   ]
  },
  {
   "cell_type": "code",
   "execution_count": null,
   "metadata": {},
   "outputs": [],
   "source": [
    "#tworzenie kolumn i zer na YEARS\n",
    "table_for_softset.insert(1, \"Years_till_1950\", 0,False)\n",
    "table_for_softset.insert(2, \"Years_1950-1985\", 0,False)\n",
    "table_for_softset.insert(3, \"Years_after_1985\", 0,False)\n",
    "\n",
    "#tworzenie kolumn i zer na DURATION\n",
    "table_for_softset.insert(4, \"Duration<100\", 0,False)\n",
    "table_for_softset.insert(5, \"Duration>=100\", 0,False)\n",
    "\n",
    "#tworzenie kolumn i zer na VOTES\n",
    "table_for_softset.insert(6, \"Votes_till_5\", 0,False)\n",
    "table_for_softset.insert(7, \"Votes_between_5_and_7\", 0,False)\n",
    "table_for_softset.insert(8, \"Votes_over_7\", 0,False)\n",
    "\n",
    "#tworzenie kolumn i zer na LANGUAGES\n",
    "table_for_softset.insert(9, \"English\", 0,False)\n",
    "table_for_softset.insert(10, \"AnotherLanguage\", 0,False)\n"
   ]
  },
  {
   "cell_type": "code",
   "execution_count": null,
   "metadata": {},
   "outputs": [],
   "source": [
    "#wykomentowane ale potrzebne w razie awarii wpisywania zer\n",
    "\"\"\"\n",
    "for each in range(len(table_for_softset)):\n",
    "    table_for_softset.at[each,'Years_till_1950']=0\n",
    "for each in range(len(table_for_softset)):\n",
    "    table_for_softset.at[each,'Years_1950-1985']=0\n",
    "for each in range(len(table_for_softset)):\n",
    "    table_for_softset.at[each,'Years_after_1985']=0\n",
    "\n",
    "for each in range(len(table_for_softset)):\n",
    "    table_for_softset.at[each,'Duration<100']=0\n",
    "for each in range(len(table_for_softset)):\n",
    "    table_for_softset.at[each,'Duration>=100']=0\n",
    "\n",
    "for each in range(len(table_for_softset)):\n",
    "    table_for_softset.at[each,'Votes_till_5']=0\n",
    "for each in range(len(table_for_softset)):\n",
    "    table_for_softset.at[each,'Votes_between_5_and_7']=0\n",
    "for each in range(len(table_for_softset)):\n",
    "    table_for_softset.at[each,'Votes_over_7']=0\n",
    "\n",
    "for each in range(len(table_for_softset)):\n",
    "    table_for_softset.at[each,'English']=0\n",
    "for each in range(len(table_for_softset)):\n",
    "    table_for_softset.at[each,'AnotherLanguage']=0\n",
    "\"\"\""
   ]
  },
  {
   "cell_type": "code",
   "execution_count": null,
   "metadata": {},
   "outputs": [],
   "source": [
    "#wstawianie 1 do Years_till_1950\n",
    "for each in range(len(baseReady)):\n",
    "    if(int(baseReady.at[each,\"year\"])<1950):\n",
    "        table_for_softset.at[each,'Years_till_1950'] = 1\n",
    "\n",
    "#wstawianie 1 do Years_1950-1985\n",
    "for each in range(len(baseReady)):\n",
    "    if(1950<int(baseReady.at[each,\"year\"])):\n",
    "        if(int(baseReady.at[each,\"year\"])<=1985):\n",
    "            table_for_softset.at[each,'Years_1950-1985'] = 1\n",
    "\n",
    "#wstawianie 1 do Years_after_1985\n",
    "for each in range(len(baseReady)):\n",
    "    if(int(baseReady.at[each,\"year\"])>1985):\n",
    "        table_for_softset.at[each,'Years_after_1985'] = 1"
   ]
  },
  {
   "cell_type": "code",
   "execution_count": null,
   "metadata": {},
   "outputs": [],
   "source": [
    "#wstawianie 1 do Duration<100\n",
    "for each in range(len(baseReady)):\n",
    "    if(int(baseReady.at[each,\"duration\"])<100):\n",
    "        table_for_softset.at[each,'Duration<100'] = 1\n",
    "\n",
    "#wstawianie 1 do Duration>=100\n",
    "for each in range(len(baseReady)):\n",
    "    if(int(baseReady.at[each,\"duration\"])>=100):\n",
    "        table_for_softset.at[each,'Duration>=100'] = 1"
   ]
  },
  {
   "cell_type": "code",
   "execution_count": null,
   "metadata": {},
   "outputs": [],
   "source": [
    "#wstawianie 1 do Votes_till_5\n",
    "for each in range(len(baseReady)):\n",
    "    if(float(baseReady.at[each,\"avg_vote\"])<5):\n",
    "        table_for_softset.at[each,'Votes_till_5'] = 1\n",
    "\n",
    "#wstawianie 1 do Votes_between_5_and_7\n",
    "for each in range(len(baseReady)):\n",
    "    if(5<=float(baseReady.at[each,\"avg_vote\"]) and float(baseReady.at[each,\"avg_vote\"])<=7):\n",
    "        table_for_softset.at[each,'Votes_between_5_and_7'] = 1\n",
    "\n",
    "#wstawianie 1 do Votes_over_7\n",
    "for each in range(len(baseReady)):\n",
    "    if(float(baseReady.at[each,\"avg_vote\"])>7):\n",
    "        table_for_softset.at[each,'Votes_over_7'] = 1"
   ]
  },
  {
   "cell_type": "code",
   "execution_count": null,
   "metadata": {},
   "outputs": [],
   "source": [
    "#wstawienie 1 do English i AnotherLanguage\n",
    "for each in range(len(baseReady)):\n",
    "    if(\"English\" in str(baseReady.at[each,\"language\"])):\n",
    "        table_for_softset.at[each,'English'] = 1\n",
    "    else:\n",
    "        table_for_softset.at[each,'AnotherLanguage'] = 1"
   ]
  },
  {
   "cell_type": "code",
   "execution_count": null,
   "metadata": {},
   "outputs": [],
   "source": [
    "table_for_softset.to_csv('final_base.csv',index=False)"
   ]
  }
 ]
}